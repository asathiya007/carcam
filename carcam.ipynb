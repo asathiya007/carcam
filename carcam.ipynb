{
 "cells": [
  {
   "cell_type": "code",
   "execution_count": 1,
   "metadata": {},
   "outputs": [],
   "source": [
    "# import libraries and utilities\n",
    "from object_detection_models import *\n",
    "from object_detection_utils import *\n",
    "from video_utils import VideoUtils\n",
    "from math_utils import MathUtils\n",
    "from lane_detection import LaneDetection\n",
    "from road_entity_detection import RoadEntityDetection\n",
    "import os, sys, time, datetime, random\n",
    "import cv2\n",
    "import torch \n",
    "from torch.utils.data import DataLoader\n",
    "from torchvision import datasets, transforms\n",
    "from torch.autograd import Variable\n",
    "import numpy as np\n",
    "import matplotlib.pyplot as plt\n",
    "import matplotlib.patches as patches\n",
    "from PIL import Image"
   ]
  },
  {
   "cell_type": "code",
   "execution_count": 2,
   "metadata": {},
   "outputs": [],
   "source": [
    "# CarCam computer vision pipeline\n",
    "def carcam_pipeline(inputvid_filename, outputvid_filename):\n",
    "    print('Input video: {}'.format(inputvid_filename))\n",
    "    print('Executing CarCam computer vision pipeline. Please wait...')\n",
    "    frames = VideoUtils.extract_frames(inputvid_filename)\n",
    "    processed_frames, lane_lines = LaneDetection.detect_lanes(frames)\n",
    "    processed_frames = RoadEntityDetection.detect_road_entities(processed_frames, lane_lines)\n",
    "    VideoUtils.compile_frames(processed_frames, outputvid_filename)\n",
    "    cv2.destroyAllWindows()\n",
    "    print('Output video: {}'.format(outputvid_filename))\n",
    "    print('All done, check out your output video!')"
   ]
  },
  {
   "cell_type": "code",
   "execution_count": 3,
   "metadata": {},
   "outputs": [
    {
     "name": "stdout",
     "output_type": "stream",
     "text": [
      "Input video: input.mov\n",
      "Executing CarCam computer vision pipeline. Please wait...\n",
      "Output video: output.mp4\n",
      "All done, check out your output video!\n"
     ]
    }
   ],
   "source": [
    "# execute pipeline\n",
    "carcam_pipeline('input.mov', 'output.mp4')"
   ]
  },
  {
   "cell_type": "code",
   "execution_count": null,
   "metadata": {},
   "outputs": [],
   "source": []
  }
 ],
 "metadata": {
  "kernelspec": {
   "display_name": "Python 3",
   "language": "python",
   "name": "python3"
  },
  "language_info": {
   "codemirror_mode": {
    "name": "ipython",
    "version": 3
   },
   "file_extension": ".py",
   "mimetype": "text/x-python",
   "name": "python",
   "nbconvert_exporter": "python",
   "pygments_lexer": "ipython3",
   "version": "3.7.0"
  }
 },
 "nbformat": 4,
 "nbformat_minor": 4
}
