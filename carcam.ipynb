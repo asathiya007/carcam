{
 "cells": [
  {
   "cell_type": "code",
   "execution_count": 8,
   "metadata": {},
   "outputs": [],
   "source": [
    "# import libraries and utilities\n",
    "from object_detection_models import *\n",
    "from object_detection_utils import *\n",
    "from video_utils import *\n",
    "from math_utils import MathUtils\n",
    "from lane_detection import LaneDetection\n",
    "from road_entity_detection import RoadEntityDetection\n",
    "import os, sys, time, datetime, random\n",
    "import cv2\n",
    "import torch \n",
    "from torch.utils.data import DataLoader\n",
    "from torchvision import datasets, transforms\n",
    "from torch.autograd import Variable\n",
    "import numpy as np\n",
    "import matplotlib.pyplot as plt\n",
    "import matplotlib.patches as patches\n",
    "from PIL import Image"
   ]
  },
  {
   "cell_type": "code",
   "execution_count": 9,
   "metadata": {},
   "outputs": [],
   "source": [
    "# CarCam computer vision pipeline\n",
    "def carcam_pipeline(inputvid_filename, outputvid_filename):\n",
    "    print('Input video: {}'.format(inputvid_filename))\n",
    "    print('Executing CarCam computer vision pipeline. Please wait...')\n",
    "    frames = extract_frames(inputvid_filename)\n",
    "    processed_frames, lane_lines = LaneDetection.detect_lanes(frames)\n",
    "    processed_frames = RoadEntityDetection.detect_road_entities(processed_frames, lane_lines)\n",
    "    compile_frames(processed_frames, outputvid_filename)\n",
    "    cv2.destroyAllWindows()\n",
    "    print('Output video: {}'.format(outputvid_filename))\n",
    "    print('All done, check out your output video!')"
   ]
  },
  {
   "cell_type": "code",
   "execution_count": 10,
   "metadata": {},
   "outputs": [
    {
     "name": "stdout",
     "output_type": "stream",
     "text": [
      "Input video: input.mov\n",
      "Executing CarCam computer vision pipeline. Please wait...\n"
     ]
    },
    {
     "ename": "NameError",
     "evalue": "name 'extract_frames' is not defined",
     "output_type": "error",
     "traceback": [
      "\u001b[0;31m---------------------------------------------------------------------------\u001b[0m",
      "\u001b[0;31mNameError\u001b[0m                                 Traceback (most recent call last)",
      "\u001b[0;32m<ipython-input-10-8d9736e8d918>\u001b[0m in \u001b[0;36m<module>\u001b[0;34m\u001b[0m\n\u001b[1;32m      1\u001b[0m \u001b[0;31m# execute pipeline\u001b[0m\u001b[0;34m\u001b[0m\u001b[0;34m\u001b[0m\u001b[0m\n\u001b[0;32m----> 2\u001b[0;31m \u001b[0mcarcam_pipeline\u001b[0m\u001b[0;34m(\u001b[0m\u001b[0;34m'input.mov'\u001b[0m\u001b[0;34m,\u001b[0m \u001b[0;34m'output.mp4'\u001b[0m\u001b[0;34m)\u001b[0m\u001b[0;34m\u001b[0m\u001b[0m\n\u001b[0m",
      "\u001b[0;32m<ipython-input-9-a1ee556fdd2e>\u001b[0m in \u001b[0;36mcarcam_pipeline\u001b[0;34m(inputvid_filename, outputvid_filename)\u001b[0m\n\u001b[1;32m      3\u001b[0m     \u001b[0mprint\u001b[0m\u001b[0;34m(\u001b[0m\u001b[0;34m'Input video: {}'\u001b[0m\u001b[0;34m.\u001b[0m\u001b[0mformat\u001b[0m\u001b[0;34m(\u001b[0m\u001b[0minputvid_filename\u001b[0m\u001b[0;34m)\u001b[0m\u001b[0;34m)\u001b[0m\u001b[0;34m\u001b[0m\u001b[0m\n\u001b[1;32m      4\u001b[0m     \u001b[0mprint\u001b[0m\u001b[0;34m(\u001b[0m\u001b[0;34m'Executing CarCam computer vision pipeline. Please wait...'\u001b[0m\u001b[0;34m)\u001b[0m\u001b[0;34m\u001b[0m\u001b[0m\n\u001b[0;32m----> 5\u001b[0;31m     \u001b[0mframes\u001b[0m \u001b[0;34m=\u001b[0m \u001b[0mextract_frames\u001b[0m\u001b[0;34m(\u001b[0m\u001b[0minputvid_filename\u001b[0m\u001b[0;34m)\u001b[0m\u001b[0;34m\u001b[0m\u001b[0m\n\u001b[0m\u001b[1;32m      6\u001b[0m     \u001b[0mprocessed_frames\u001b[0m\u001b[0;34m,\u001b[0m \u001b[0mlane_lines\u001b[0m \u001b[0;34m=\u001b[0m \u001b[0mLaneDetection\u001b[0m\u001b[0;34m.\u001b[0m\u001b[0mdetect_lanes\u001b[0m\u001b[0;34m(\u001b[0m\u001b[0mframes\u001b[0m\u001b[0;34m)\u001b[0m\u001b[0;34m\u001b[0m\u001b[0m\n\u001b[1;32m      7\u001b[0m     \u001b[0mprocessed_frames\u001b[0m \u001b[0;34m=\u001b[0m \u001b[0mRoadEntityDetection\u001b[0m\u001b[0;34m.\u001b[0m\u001b[0mdetect_road_entities\u001b[0m\u001b[0;34m(\u001b[0m\u001b[0mprocessed_frames\u001b[0m\u001b[0;34m,\u001b[0m \u001b[0mlane_lines\u001b[0m\u001b[0;34m)\u001b[0m\u001b[0;34m\u001b[0m\u001b[0m\n",
      "\u001b[0;31mNameError\u001b[0m: name 'extract_frames' is not defined"
     ]
    }
   ],
   "source": [
    "# execute pipeline\n",
    "carcam_pipeline('input.mov', 'output.mp4')"
   ]
  },
  {
   "cell_type": "code",
   "execution_count": null,
   "metadata": {},
   "outputs": [],
   "source": []
  }
 ],
 "metadata": {
  "kernelspec": {
   "display_name": "Python 3",
   "language": "python",
   "name": "python3"
  },
  "language_info": {
   "codemirror_mode": {
    "name": "ipython",
    "version": 3
   },
   "file_extension": ".py",
   "mimetype": "text/x-python",
   "name": "python",
   "nbconvert_exporter": "python",
   "pygments_lexer": "ipython3",
   "version": "3.7.0"
  }
 },
 "nbformat": 4,
 "nbformat_minor": 4
}
